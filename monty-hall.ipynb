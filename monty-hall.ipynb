{
 "cells": [
  {
   "cell_type": "markdown",
   "id": "efa2c501-d763-4476-9800-6aaf7d140411",
   "metadata": {},
   "source": [
    "Esta es una simulación del problema de Monty Hall.\n",
    "\n"
   ]
  },
  {
   "cell_type": "code",
   "execution_count": 3,
   "id": "7d4f30d6-52cc-4937-b6a8-fcafab997e63",
   "metadata": {},
   "outputs": [
    {
     "data": {
      "text/plain": [
       "(10000, 1900, 1231, 0.19)"
      ]
     },
     "execution_count": 3,
     "metadata": {},
     "output_type": "execute_result"
    }
   ],
   "source": [
    "from random import choice\n",
    "\n",
    "def monty_hall(puertas, intentos):\n",
    "    ganados_cambio = 0\n",
    "    ganados_no_cambio = 0\n",
    "    elecciones = list(range(1, puertas+1))\n",
    "    for i in range(intentos):\n",
    "        puerta_carro = choice(elecciones)\n",
    "        elección_concursante = choice(elecciones)\n",
    "        restantes = [x for x in elecciones if\n",
    "                     not x in {puerta_carro, elección_concursante}]\n",
    "        puerta_mostrada = choice(restantes)\n",
    "        cambiar = choice([True, False])\n",
    "        if cambiar:\n",
    "            posibles = [x for x in elecciones if\n",
    "                        not x in {elección_concursante, puerta_mostrada}]\n",
    "            nueva_elección = choice(posibles)\n",
    "            if nueva_elección == puerta_carro:\n",
    "                ganados_cambio = ganados_cambio + 1\n",
    "        else:\n",
    "            if elección_concursante == puerta_carro:\n",
    "                ganados_no_cambio = ganados_no_cambio + 1\n",
    "    return (intentos,\n",
    "            ganados_cambio,\n",
    "            ganados_no_cambio,\n",
    "            ganados_cambio/intentos)\n",
    "\n",
    "monty_hall(4, 10000)"
   ]
  },
  {
   "cell_type": "code",
   "execution_count": 1,
   "id": "86490579-5c8f-4cc8-822b-089599ff5cc6",
   "metadata": {},
   "outputs": [
    {
     "name": "stdout",
     "output_type": "stream",
     "text": [
      "| 1 | 2 | 3 |"
     ]
    }
   ],
   "source": [
    "from random import choice\n",
    "list(range(1,4))"
   ]
  },
  {
   "cell_type": "code",
   "execution_count": 1,
   "id": "6d80647b-c0c2-462b-96e1-05a8ca981d96",
   "metadata": {},
   "outputs": [
    {
     "name": "stdout",
     "output_type": "stream",
     "text": [
      "0.375"
     ]
    }
   ],
   "source": [
    "3/8"
   ]
  }
 ],
 "metadata": {
  "kernelspec": {
   "display_name": "Python 3 (ipykernel)",
   "language": "python",
   "name": "python3"
  },
  "language_info": {
   "codemirror_mode": {
    "name": "ipython",
    "version": 3
   },
   "file_extension": ".py",
   "mimetype": "text/x-python",
   "name": "python",
   "nbconvert_exporter": "python",
   "pygments_lexer": "ipython3",
   "version": "3.9.2"
  },
  "org": null
 },
 "nbformat": 4,
 "nbformat_minor": 5
}
