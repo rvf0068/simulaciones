{
 "cells": [
  {
   "cell_type": "markdown",
   "id": "807e8d8a-7bdd-459c-9d09-fa0fbfca84ef",
   "metadata": {},
   "source": [
    "Simulaciones\n",
    "============\n",
    "\n"
   ]
  },
  {
   "cell_type": "markdown",
   "id": "6728b67b-a845-4ade-bbe3-fe3f95602e9b",
   "metadata": {},
   "source": [
    "Simulaciones del capítulo 14 del libro de Isaac *The Pleasures of Probability*.\n",
    "\n"
   ]
  },
  {
   "cell_type": "markdown",
   "id": "bbe4b461-f6ea-4f80-a285-01e59b7f143d",
   "metadata": {},
   "source": [
    "## Código común\n",
    "\n"
   ]
  },
  {
   "cell_type": "code",
   "execution_count": 1,
   "id": "e7c3344c-48e3-4e74-98a2-883d115517ed",
   "metadata": {},
   "outputs": [],
   "source": [
    "from math import pi, sin\n",
    "from random import choice, choices, random\n",
    "\n",
    "def logistica(parametro):\n",
    "    def flog(x):\n",
    "        return parametro*x*(1-x)\n",
    "    return flog\n",
    "\n",
    "def dado_intervalo(valor):\n",
    "    if valor<1/6:\n",
    "        return 1\n",
    "    elif valor<2/6:\n",
    "        return 2\n",
    "    elif valor<3/6:\n",
    "        return 3\n",
    "    elif valor<4/6:\n",
    "        return 4\n",
    "    elif valor<5/6:\n",
    "        return 5\n",
    "    return 6"
   ]
  },
  {
   "cell_type": "markdown",
   "id": "686b42d1-51fd-40a6-a6a9-fb758f1d9c48",
   "metadata": {},
   "source": [
    "## Frecuencia de ceros\n",
    "\n"
   ]
  },
  {
   "cell_type": "code",
   "execution_count": 1,
   "id": "569ca05c-a250-4caf-b63a-58c3d69cd30f",
   "metadata": {},
   "outputs": [],
   "source": [
    "def sucesion(n):\n",
    "    total = 0\n",
    "    for i in range(n):\n",
    "        x = choice([0, 1, 2, 3, 4, 5, 6, 7, 8, 9])\n",
    "        if x == 0:\n",
    "            total = total+1\n",
    "    return total/n\n",
    "\n",
    "sucesion(100000)"
   ]
  },
  {
   "cell_type": "markdown",
   "id": "03376e93-631f-4fed-a85a-efb569865e85",
   "metadata": {},
   "source": [
    "Con la función logística:\n",
    "\n"
   ]
  },
  {
   "cell_type": "code",
   "execution_count": 1,
   "id": "fdd08712-c7b8-4a3f-a69e-4d2e8ee818fe",
   "metadata": {},
   "outputs": [],
   "source": [
    "def sucesion2(n, para=3.95, semilla=0.4):\n",
    "    total = 0\n",
    "    f = logistica(para)\n",
    "    for i in range(n):\n",
    "        if semilla < 0.1:\n",
    "            total = total+1\n",
    "        semilla = f(semilla)\n",
    "    return total/n\n",
    "\n",
    "sucesion2(10000000)"
   ]
  },
  {
   "cell_type": "markdown",
   "id": "8a19904c-07cb-4bba-a093-0c6fb0e797fe",
   "metadata": {},
   "source": [
    "## Lanzar una moneda\n",
    "\n"
   ]
  },
  {
   "cell_type": "code",
   "execution_count": 1,
   "id": "2c4f943a-5ae1-46be-8577-273a56059ead",
   "metadata": {},
   "outputs": [],
   "source": [
    "def moneda(n):\n",
    "    total = 0\n",
    "    for i in range(n):\n",
    "        x = choice(['A', 'S'])\n",
    "        if x == 'A':\n",
    "            total = total+1\n",
    "    return total/n\n",
    "\n",
    "moneda(100000)"
   ]
  },
  {
   "cell_type": "markdown",
   "id": "98c6dc79-cef6-4c1f-b99e-05c6fb63894f",
   "metadata": {},
   "source": [
    "Con la función logística:\n",
    "\n"
   ]
  },
  {
   "cell_type": "code",
   "execution_count": 1,
   "id": "f760d9f6-2dd3-4f0b-9a1e-7e2d102800d7",
   "metadata": {},
   "outputs": [],
   "source": [
    "def moneda2(n, para=3.845, semilla=0.3):\n",
    "    total = 0\n",
    "    f = logistica(para)\n",
    "    for i in range(n):\n",
    "        if semilla < 0.5:\n",
    "            total = total+1\n",
    "        semilla = f(semilla)\n",
    "    return total/n\n",
    "\n",
    "moneda2(10000000)"
   ]
  },
  {
   "cell_type": "markdown",
   "id": "df306dcf-d9fd-4a4f-bfd2-923cf91d8d7d",
   "metadata": {},
   "source": [
    "## Lanzar una pareja de dados\n",
    "\n"
   ]
  },
  {
   "cell_type": "code",
   "execution_count": 1,
   "id": "19fb50bb-4223-4238-a100-3f7fa14e6d97",
   "metadata": {},
   "outputs": [],
   "source": [
    "def dados(n):\n",
    "    total7 = 0\n",
    "    total11 = 0\n",
    "    for i in range(n):\n",
    "        x = choice([1, 2, 3, 4, 5, 6])\n",
    "        y = choice([1, 2, 3, 4, 5, 6])\n",
    "        if x+y == 7:\n",
    "            total7 = total7+1\n",
    "        elif x+y == 11:\n",
    "            total11 = total11+1\n",
    "    return total7/n, total11/n\n",
    "\n",
    "dados(1000000)"
   ]
  },
  {
   "cell_type": "code",
   "execution_count": 1,
   "id": "b3c78236-3da0-4634-9573-36d9720422a1",
   "metadata": {},
   "outputs": [],
   "source": [
    "def dados2(n, para=3.957, semilla1=0.3, semilla2=0.4):\n",
    "    total7 = 0\n",
    "    total11 = 0\n",
    "    f = logistica(para)\n",
    "    for i in range(n):\n",
    "        x = dado_intervalo(semilla1)\n",
    "        y = dado_intervalo(semilla2)\n",
    "        if x+y == 7:\n",
    "            total7 = total7+1\n",
    "        elif x+y == 11:\n",
    "            total11 = total11+1\n",
    "        semilla1 = f(semilla1)\n",
    "        semilla2 = f(semilla2)\n",
    "    return total7/n, total11/n\n",
    "\n",
    "dados2(100000)"
   ]
  },
  {
   "cell_type": "markdown",
   "id": "36c9b576-0c34-4d78-979d-e3d5e3bdb827",
   "metadata": {},
   "source": [
    "## Aguja de Buffon\n",
    "\n"
   ]
  },
  {
   "cell_type": "markdown",
   "id": "06fad2af-69b8-4563-98d1-f3de3348ead4",
   "metadata": {},
   "source": [
    "Debemos obtener $\\frac{1}{\\pi}\\approx 0.3183$.\n",
    "\n"
   ]
  },
  {
   "cell_type": "code",
   "execution_count": 1,
   "id": "bbfdeaed-ed3c-4148-a16d-f8b33f66d535",
   "metadata": {},
   "outputs": [],
   "source": [
    "def buffon(n):\n",
    "    total = 0\n",
    "    for i in range(n):\n",
    "        x = random()\n",
    "        y = random()*pi\n",
    "        if x < (1/2)*sin(y):\n",
    "            total = total+1\n",
    "    return total/n\n",
    "\n",
    "buffon(10000000)"
   ]
  },
  {
   "cell_type": "markdown",
   "id": "a4512ae2-1852-45fc-b721-0db73199aff7",
   "metadata": {},
   "source": [
    "## Estimación de una probabilidad binomial\n",
    "\n"
   ]
  },
  {
   "cell_type": "markdown",
   "id": "389ad0cc-fac4-49f1-a8bd-8d129aaa4bbf",
   "metadata": {},
   "source": [
    "Se lanza una moneda 10 veces. La probabilidad de obtener 3 águilas es $ \\binom{10}{3}2^{-10}\\approx 0.1172$.\n",
    "\n"
   ]
  },
  {
   "cell_type": "code",
   "execution_count": 1,
   "id": "865f4d02-41e4-477c-97d9-89470d36a609",
   "metadata": {},
   "outputs": [],
   "source": [
    "def tres_aguilas(n):\n",
    "    total = 0\n",
    "    for i in range(n):\n",
    "        volados = [choice([1, 0]) for _ in range(10)]\n",
    "        if sum(volados) == 3:\n",
    "            total = total+1\n",
    "    return total/n\n",
    "\n",
    "tres_aguilas(100000)"
   ]
  },
  {
   "cell_type": "markdown",
   "id": "14a16e5d-d6fc-4454-87ed-95aae73f594f",
   "metadata": {},
   "source": [
    "## Estimación de la probabilidad de ganar en craps\n",
    "\n"
   ]
  },
  {
   "cell_type": "markdown",
   "id": "491ca510-7442-450a-912b-c2d8af3370f3",
   "metadata": {},
   "source": [
    "Recordemos que la probabilidad de ganar en craps es aproximadamente 0.4929 y la cantidad esperada de lanzamientos de un juego de craps es 3.375\n",
    "\n"
   ]
  },
  {
   "cell_type": "code",
   "execution_count": 1,
   "id": "8005e23b-d815-45c6-bede-65580d266558",
   "metadata": {},
   "outputs": [],
   "source": [
    "def craps(n):\n",
    "    ganados = 0\n",
    "    duracion = 0\n",
    "    for i in range(n):\n",
    "        x = choice([1, 2, 3, 4, 5, 6])\n",
    "        y = choice([1, 2, 3, 4, 5, 6])\n",
    "        if x+y in [7, 11]:\n",
    "            ganados = ganados + 1\n",
    "            duracion = duracion + 1\n",
    "        elif x+y in [2, 3, 12]:\n",
    "            duracion = duracion + 1\n",
    "        else:\n",
    "            duracion = duracion + 1\n",
    "            punto = x+y\n",
    "            terminado = False\n",
    "            while not terminado:\n",
    "                duracion = duracion + 1\n",
    "                x = choice([1, 2, 3, 4, 5, 6])\n",
    "                y = choice([1, 2, 3, 4, 5, 6])\n",
    "                if x+y == 7:\n",
    "                    terminado = True\n",
    "                elif x+y == punto:\n",
    "                    terminado = True\n",
    "                    ganados = ganados + 1\n",
    "    return ganados/n, duracion/n    \n",
    "\n",
    "craps(10000)"
   ]
  },
  {
   "cell_type": "markdown",
   "id": "9ae3e57f-b485-4138-b76f-3057f5c288ad",
   "metadata": {},
   "source": [
    "## Ruina del jugador\n",
    "\n"
   ]
  },
  {
   "cell_type": "markdown",
   "id": "de672114-163b-4784-a2c1-6e8f9bf306d2",
   "metadata": {},
   "source": [
    "La función `ruina` regresa `True` si el apostador gana todo el capital, y `False` si el apostador se arruina.\n",
    "\n"
   ]
  },
  {
   "cell_type": "code",
   "execution_count": 1,
   "id": "4aaec748-6bda-42be-8ce7-6db96dc3109f",
   "metadata": {},
   "outputs": [],
   "source": [
    "def ruina(capital=2, cap_total=5, p=0.5):\n",
    "    while True:\n",
    "        juego = choices([1, -1], weights=[p, 1-p])\n",
    "        capital = capital + juego[0]\n",
    "        if capital == 0:\n",
    "            return False\n",
    "        if capital == cap_total:\n",
    "            return True\n",
    "\n",
    "def repite_ruina(n, capital=2, cap_total=5, p=0.5):\n",
    "    ganados = 0\n",
    "    for i in range(n):\n",
    "        if not ruina(capital, cap_total, p):\n",
    "            ganados = ganados+1\n",
    "    return ganados/n\n",
    "\n",
    "repite_ruina(50000, p=0.55)"
   ]
  },
  {
   "cell_type": "code",
   "execution_count": 1,
   "id": "a10c180c-94fb-4aaa-b1b7-9be88b11c2c2",
   "metadata": {},
   "outputs": [],
   "source": [
    "choices([-1, 1], weights=[0.2, 0.8], k=10)"
   ]
  }
 ],
 "metadata": {
  "kernelspec": {
   "display_name": "Python 3 (ipykernel)",
   "language": "python",
   "name": "python3"
  },
  "language_info": {
   "codemirror_mode": {
    "name": "ipython",
    "version": 3
   },
   "file_extension": ".py",
   "mimetype": "text/x-python",
   "name": "python",
   "nbconvert_exporter": "python",
   "pygments_lexer": "ipython3",
   "version": "3.9.2"
  },
  "org": null
 },
 "nbformat": 4,
 "nbformat_minor": 5
}
